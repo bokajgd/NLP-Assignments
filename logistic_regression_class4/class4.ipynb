{
 "cells": [
  {
   "cell_type": "markdown",
   "source": [
    "# Introduction to pytorch tensors\n",
    "\n",
    "---\n",
    "\n",
    "Pytorch tensors, work very similar to numpy arrays and you can always convert it to a numpy array or make a numpy array into a torch tensor. The primary difference is that it is located either on your CPU or your GPU and that it contains works with the auto differential software of pytorch."
   ],
   "metadata": {}
  },
  {
   "cell_type": "code",
   "execution_count": 2,
   "source": [
    "import torch\n",
    "x_tensor = torch.tensor([[1., -1.], [1., -1.]])\n",
    "print(type(x_tensor))\n",
    "\n",
    "# tensor to numpy\n",
    "x_array = x_tensor.numpy()\n",
    "print(type(x_array))\n",
    "\n",
    "# numpy to tensor\n",
    "x_tensor2 =torch.tensor(x_array)\n",
    "print(type(x_tensor2))\n",
    "\n",
    "print(x_tensor2 == x_tensor)\n",
    "\n",
    "# Location of tensor\n",
    "x_tensor.device"
   ],
   "outputs": [
    {
     "output_type": "stream",
     "name": "stdout",
     "text": [
      "<class 'torch.Tensor'>\n",
      "<class 'numpy.ndarray'>\n",
      "<class 'torch.Tensor'>\n",
      "tensor([[True, True],\n",
      "        [True, True]])\n"
     ]
    },
    {
     "output_type": "execute_result",
     "data": {
      "text/plain": [
       "device(type='cpu')"
      ]
     },
     "metadata": {},
     "execution_count": 2
    }
   ],
   "metadata": {}
  },
  {
   "cell_type": "markdown",
   "source": [
    "### Example of finding gradient"
   ],
   "metadata": {}
  },
  {
   "cell_type": "code",
   "execution_count": 18,
   "source": [
    "x = torch.tensor([[1., -1.], [1., 1.]], requires_grad=True)\n",
    "\n",
    "# sum(x_i ^ 2)\n",
    "out = (x**2).sum()\n",
    "\n",
    "# calculate the gradient \n",
    "out.backward()\n",
    "\n",
    "# What is the gradient for x\n",
    "print(x.grad)"
   ],
   "outputs": [
    {
     "output_type": "stream",
     "name": "stdout",
     "text": [
      "tensor([[ 2., -2.],\n",
      "        [ 2.,  2.]])\n"
     ]
    }
   ],
   "metadata": {}
  },
  {
   "cell_type": "markdown",
   "source": [
    "# Optimizing a polynomial\n",
    "\n",
    "---\n",
    "\n"
   ],
   "metadata": {}
  },
  {
   "cell_type": "code",
   "execution_count": 21,
   "source": [
    "x = torch.tensor([3.], requires_grad=True)\n",
    "y = 2. + x**2 -3 *x\n",
    "print(y)\n",
    "\n",
    "# create sgd optimizer\n",
    "optimizer = torch.optim.SGD([x], lr=0.01)\n",
    "\n",
    "# backward pass / calcuate the gradient on the thing we want to optimize\n",
    "y.backward()\n",
    "\n",
    "print(x.grad) # examine\n",
    "\n",
    "# step in the direction to minimize y\n",
    "optimizer.step()\n",
    "\n",
    "# set the gradient to zero. (This is a bit wierd but required)\n",
    "optimizer.zero_grad()\n"
   ],
   "outputs": [
    {
     "output_type": "stream",
     "name": "stdout",
     "text": [
      "tensor([2.], grad_fn=<SubBackward0>)\n",
      "tensor([3.])\n"
     ]
    }
   ],
   "metadata": {}
  },
  {
   "cell_type": "code",
   "execution_count": 22,
   "source": [
    "# we see that x have improved (minimum is 1.5 so moving in the right direction)\n",
    "print(x)\n",
    "# we see that the gradient is set to zero\n",
    "print(x.grad)"
   ],
   "outputs": [
    {
     "output_type": "stream",
     "name": "stdout",
     "text": [
      "tensor([2.9700], requires_grad=True)\n",
      "tensor([0.])\n"
     ]
    }
   ],
   "metadata": {}
  },
  {
   "cell_type": "markdown",
   "source": [
    "We can now do this multiple times to obtain the desired results:"
   ],
   "metadata": {}
  },
  {
   "cell_type": "code",
   "execution_count": 23,
   "source": [
    "for i in range(1000):\n",
    "\n",
    "    # forward pass / or just calculate the outcome\n",
    "    y = 2. + x**2 -3 *x\n",
    "\n",
    "    # backward pass on the thing we want to minimize\n",
    "    y.backward()\n",
    "\n",
    "    # take a step in the \"minimize direction\"\n",
    "    optimizer.step()\n",
    "\n",
    "    # zero the gradient\n",
    "    optimizer.zero_grad()"
   ],
   "outputs": [],
   "metadata": {}
  },
  {
   "cell_type": "code",
   "execution_count": 24,
   "source": [
    "print(x)"
   ],
   "outputs": [
    {
     "output_type": "stream",
     "name": "stdout",
     "text": [
      "tensor([1.5000], requires_grad=True)\n"
     ]
    }
   ],
   "metadata": {}
  },
  {
   "cell_type": "markdown",
   "source": [
    "\n",
    "# Fitting a Linear regression\n",
    "\n",
    "---\n",
    "\n",
    "Here we will fit a linear regression using pytorch, using the same approach as above.\n",
    "\n",
    "## 0) Prepare the data\n",
    "First let us create some data. We will do this using `sklearn`'s `make_regression`, which just make some sample data for regression."
   ],
   "metadata": {}
  },
  {
   "cell_type": "code",
   "execution_count": 4,
   "source": [
    "from sklearn import datasets\n",
    "import matplotlib.pyplot as plt\n",
    "\n",
    "# 0) Prepare data\n",
    "X_numpy, y_numpy = datasets.make_regression(n_samples=100, n_features=1, noise=20, random_state=4)\n",
    "\n",
    "# plot the sample\n",
    "plt.plot(X_numpy, y_numpy, 'ro')\n",
    "plt.show()\n",
    "\n",
    "# cast to float Tensor\n",
    "X = torch.tensor(X_numpy, dtype=torch.float)\n",
    "y = torch.tensor(y_numpy, dtype=torch.float)\n",
    "y = y.view(y.shape[0], 1) # view is similar to reshape it simply sets the desired shape to (100, 1)\n",
    "print(y.shape)\n",
    "print(y.dtype)\n",
    "print(x.dtype)\n",
    "\n",
    "\n",
    "n_samples, n_features = X.shape"
   ],
   "outputs": [
    {
     "output_type": "display_data",
     "data": {
      "image/png": "[encoded data removed]",
      "text/plain": [
       "<Figure size 432x288 with 1 Axes>"
      ]
     },
     "metadata": {
      "needs_background": "light"
     }
    },
    {
     "output_type": "stream",
     "name": "stdout",
     "text": [
      "torch.Size([100, 1])\n",
      "torch.float32\n"
     ]
    },
    {
     "output_type": "error",
     "ename": "NameError",
     "evalue": "name 'x' is not defined",
     "traceback": [
      "\u001b[0;31m---------------------------------------------------------------------------\u001b[0m",
      "\u001b[0;31mNameError\u001b[0m                                 Traceback (most recent call last)",
      "\u001b[0;32m<ipython-input-4-fd4fcbecd58b>\u001b[0m in \u001b[0;36m<module>\u001b[0;34m\u001b[0m\n\u001b[1;32m     15\u001b[0m \u001b[0mprint\u001b[0m\u001b[0;34m(\u001b[0m\u001b[0my\u001b[0m\u001b[0;34m.\u001b[0m\u001b[0mshape\u001b[0m\u001b[0;34m)\u001b[0m\u001b[0;34m\u001b[0m\u001b[0;34m\u001b[0m\u001b[0m\n\u001b[1;32m     16\u001b[0m \u001b[0mprint\u001b[0m\u001b[0;34m(\u001b[0m\u001b[0my\u001b[0m\u001b[0;34m.\u001b[0m\u001b[0mdtype\u001b[0m\u001b[0;34m)\u001b[0m\u001b[0;34m\u001b[0m\u001b[0;34m\u001b[0m\u001b[0m\n\u001b[0;32m---> 17\u001b[0;31m \u001b[0mprint\u001b[0m\u001b[0;34m(\u001b[0m\u001b[0mx\u001b[0m\u001b[0;34m.\u001b[0m\u001b[0mdtype\u001b[0m\u001b[0;34m)\u001b[0m\u001b[0;34m\u001b[0m\u001b[0;34m\u001b[0m\u001b[0m\n\u001b[0m\u001b[1;32m     18\u001b[0m \u001b[0;34m\u001b[0m\u001b[0m\n\u001b[1;32m     19\u001b[0m \u001b[0;34m\u001b[0m\u001b[0m\n",
      "\u001b[0;31mNameError\u001b[0m: name 'x' is not defined"
     ]
    }
   ],
   "metadata": {}
  },
  {
   "cell_type": "markdown",
   "source": [
    "## 1) Creating the linear model\n",
    "You can do this using a the `nn.Linear`. This corresponds to multiplying with a matrix of beta coefficients (or weights in a neural network sense) and adding a bias. \n",
    "\n",
    "> Actually if you are very pedantic it is not really a linear transformation but an *affine* transformation, but it corresponds to what we think of as linear (regression)."
   ],
   "metadata": {}
  },
  {
   "cell_type": "code",
   "execution_count": 8,
   "source": [
    "from torch import nn\n",
    "# 1) Model\n",
    "# Linear model f = wx + b\n",
    "input_size = n_features \n",
    "output_size = 1\n",
    "model = nn.Linear(input_size, output_size)"
   ],
   "outputs": [],
   "metadata": {}
  },
  {
   "cell_type": "markdown",
   "source": [
    "# 2) Loss and optimizer\n",
    "Here we will create the optimizer, note we use `model.parameters` to get a list to get all of the parameters of the model.\n",
    "\n",
    "We also use the `MSELoss()` as our criterion to minimize. It is simply the mean squared error (MSE) which you are used to from regression."
   ],
   "metadata": {}
  },
  {
   "cell_type": "code",
   "execution_count": 9,
   "source": [
    "learning_rate = 0.01 # feel free to change this\n",
    "\n",
    "print(list(model.parameters())) # only two parameters a beta and an intercept\n",
    "\n",
    "criterion = nn.MSELoss()\n",
    "optimizer = torch.optim.SGD(model.parameters(), lr=learning_rate)  "
   ],
   "outputs": [
    {
     "output_type": "stream",
     "name": "stdout",
     "text": [
      "[Parameter containing:\n",
      "tensor([[-0.6067]], requires_grad=True), Parameter containing:\n",
      "tensor([-0.6769], requires_grad=True)]\n"
     ]
    }
   ],
   "metadata": {}
  },
  {
   "cell_type": "markdown",
   "source": [
    "## 3) Training loop\n",
    "Well this is essentially the same as before:"
   ],
   "metadata": {}
  },
  {
   "cell_type": "code",
   "execution_count": 10,
   "source": [
    "epochs = 500\n",
    "for epoch in range(epochs):\n",
    "    # Forward pass / calc predicted y\n",
    "    y_predicted = model(X)\n",
    "\n",
    "    # calucate loss / MSE\n",
    "    loss = criterion(y_predicted, y)\n",
    "    \n",
    "    # Backward pass / gradient and update\n",
    "    loss.backward()\n",
    "    optimizer.step()\n",
    "\n",
    "    # zero grad before new step\n",
    "    optimizer.zero_grad()\n",
    "\n",
    "    # some print to see that it is running\n",
    "    if (epoch+1) % 100 == 0:\n",
    "        print(f'epoch: {epoch+1}, loss = {loss.item():.4f}')"
   ],
   "outputs": [
    {
     "output_type": "stream",
     "name": "stdout",
     "text": [
      "epoch: 100, loss = 412.9387\n",
      "epoch: 200, loss = 292.8894\n",
      "epoch: 300, loss = 290.2213\n",
      "epoch: 400, loss = 290.1611\n",
      "epoch: 500, loss = 290.1598\n"
     ]
    }
   ],
   "metadata": {}
  },
  {
   "cell_type": "code",
   "execution_count": 11,
   "source": [
    "# Plot\n",
    "predicted = model(X).detach().numpy()\n",
    "\n",
    "plt.plot(X_numpy, y_numpy, 'ro')\n",
    "plt.plot(X_numpy, predicted, 'b')\n",
    "plt.show()"
   ],
   "outputs": [
    {
     "output_type": "display_data",
     "data": {
      "image/png": "[encoded data removed]",
      "text/plain": [
       "<Figure size 432x288 with 1 Axes>"
      ]
     },
     "metadata": {
      "needs_background": "light"
     }
    }
   ],
   "metadata": {}
  },
  {
   "cell_type": "markdown",
   "source": [
    "<details>\n",
    "    <summary> Hmm this seems like something we should do in a class? (or why didn't you introduce nn.modules?!) </summary>\n",
    "\n",
    "You are completely right it does work much better as a class, but maybe slightly overdoing it for the task at hand, however if you are familiar with pytorch or deep learning you might find it more convenient to create a model class. We will look at this next time as well, but in pytorch this looks something like this for the linear regression:\n",
    "\n",
    "```py\n",
    "class LinearModel(nn.Module):\n",
    "    def __init__(self, n_input_features):\n",
    "        # initialize the superclass nn.module (to tell pytorch that this is a trainable model)\n",
    "        super(Model, self).__init__()\n",
    "\n",
    "        # create a linear layer to save in the model\n",
    "        self.linear = nn.Linear(n_input_features, 1)\n",
    "\n",
    "    def forward(self, x):\n",
    "        y = self.linear(x)\n",
    "        return y\n",
    "```\n",
    "\n",
    "You can the use this model the same way as before:\n",
    "\n",
    "```\n",
    "model = LinearModel(n_input_features = 1) # create model\n",
    "y = model.forward(x)\n",
    "\n",
    "# same af before you can now calculate the loss and optimize in a loop\n",
    "```\n",
    "\n",
    "It is a little overkill for the exercise, but it might be nice getting used to the abstraction.\n",
    "\n",
    "</details>\n",
    "\n",
    "<br /> \n"
   ],
   "metadata": {}
  },
  {
   "cell_type": "markdown",
   "source": [
    "# Task: Logistic Regression\n",
    "\n",
    "---\n",
    "\n",
    "create a logistic regression, fitted either to your tekst features or (maybe easier to start with) the following test data.\n",
    "\n",
    "Things which might be useful to know:\n",
    "\n",
    "Torch do have a binary cross entropy loss function (`torch.nn.BCELoss`) and a sigmoid function (`torch.sigmoid`).\n",
    "\n",
    "If you find it hard to start it might worth debating with your studygroup\n",
    "\n",
    "- what the difference is between linear regression and logistic regression\n",
    "- How many input features how many output?\n",
    "- Try to draw it as a 1-layer neural network\n",
    "\n",
    "> **Bonus**: The end of the chapter introduced the multinomial logistic regression, it is actually surprisingly easy to do in pytorch, can you implement it? (*Hint*: pytorch does have a softmax function) The chapter also introduces (L1 and) L2 regularization for logistic regression, can you add that to your model as well?"
   ],
   "metadata": {}
  },
  {
   "cell_type": "code",
   "execution_count": 5,
   "source": [
    "X_numpy, y_numpy = datasets.make_classification(n_samples=1000, n_features=10, random_state=7)\n",
    "\n",
    "print(X_numpy.shape)\n",
    "print(y_numpy.shape)\n",
    "\n",
    "# cast to float Tensor\n",
    "X = torch.tensor(X_numpy, dtype=torch.float)\n",
    "y = torch.tensor(y_numpy, dtype=torch.float)\n",
    "y = y.view(y.shape[0], 1) # view is similar to reshape it simply sets the desired shape to (100, 1)\n",
    "\n",
    "print(X.shape)\n",
    "print(y.shape)\n",
    "\n",
    "# only plotting 2 out of 10 feature\n",
    "plt.scatter(X_numpy[:, 0], X_numpy[:, 1], marker='o', c=y_numpy,\n",
    "            s=25, edgecolor='k')"
   ],
   "outputs": [
    {
     "output_type": "stream",
     "name": "stdout",
     "text": [
      "(1000, 10)\n",
      "(1000,)\n",
      "torch.Size([1000, 10])\n",
      "torch.Size([1000, 1])\n"
     ]
    },
    {
     "output_type": "execute_result",
     "data": {
      "text/plain": [
       "<matplotlib.collections.PathCollection at 0x7f8e50c42d60>"
      ]
     },
     "metadata": {},
     "execution_count": 5
    },
    {
     "output_type": "display_data",
     "data": {
      "image/png": "[encoded data removed]",
      "text/plain": [
       "<Figure size 432x288 with 1 Axes>"
      ]
     },
     "metadata": {
      "needs_background": "light"
     }
    }
   ],
   "metadata": {}
  },
  {
   "cell_type": "markdown",
   "source": [
    "## 1) Creating the logistic model"
   ],
   "metadata": {}
  },
  {
   "cell_type": "code",
   "execution_count": 25,
   "source": [
    "from torch import nn\n",
    "# Defining logistic regression model\n",
    "input_size = 10 \n",
    "output_size = 1\n",
    "linear_model = nn.Linear(input_size, output_size)"
   ],
   "outputs": [],
   "metadata": {}
  },
  {
   "cell_type": "markdown",
   "source": [
    "## 2) Loss and optimizer"
   ],
   "metadata": {}
  },
  {
   "cell_type": "code",
   "execution_count": 26,
   "source": [
    "learning_rate = 0.01 # feel free to change this\n",
    "\n",
    "print(list(linear_model.parameters())) # only two parameters a beta and an intercept\n",
    "\n",
    "criterion = nn.BCELoss() # binary cross entropy\n",
    "optimizer = torch.optim.SGD(linear_model.parameters(), lr=learning_rate)  "
   ],
   "outputs": [
    {
     "output_type": "stream",
     "name": "stdout",
     "text": [
      "[Parameter containing:\n",
      "tensor([[-0.0572, -0.2362, -0.2262, -0.1152,  0.1256, -0.3059,  0.1721,  0.0588,\n",
      "          0.1249,  0.3111]], requires_grad=True), Parameter containing:\n",
      "tensor([-0.1758], requires_grad=True)]\n"
     ]
    }
   ],
   "metadata": {}
  },
  {
   "cell_type": "markdown",
   "source": [
    "## 3) Training loop"
   ],
   "metadata": {}
  },
  {
   "cell_type": "code",
   "execution_count": 27,
   "source": [
    "epochs = 20000\n",
    "for epoch in range(epochs):\n",
    "    # Forward pass / calc predicted y\n",
    "    y_predicted = torch.sigmoid(linear_model(X))\n",
    "\n",
    "    # calucate loss / MSE\n",
    "    loss = criterion(y_predicted, y)\n",
    "    \n",
    "    # Backward pass / gradient and update\n",
    "    loss.backward()\n",
    "    optimizer.step()\n",
    "\n",
    "    # zero grad before new step\n",
    "    optimizer.zero_grad()\n",
    "\n",
    "    # some print to see that it is running\n",
    "    if (epoch+1) % 1000 == 0:\n",
    "        print(f'epoch: {epoch+1}, loss = {loss.item():.4f}')"
   ],
   "outputs": [
    {
     "output_type": "stream",
     "name": "stdout",
     "text": [
      "epoch: 1000, loss = 0.2521\n",
      "epoch: 2000, loss = 0.2196\n",
      "epoch: 3000, loss = 0.2092\n",
      "epoch: 4000, loss = 0.2044\n",
      "epoch: 5000, loss = 0.2017\n",
      "epoch: 6000, loss = 0.2001\n",
      "epoch: 7000, loss = 0.1990\n",
      "epoch: 8000, loss = 0.1983\n",
      "epoch: 9000, loss = 0.1979\n",
      "epoch: 10000, loss = 0.1975\n",
      "epoch: 11000, loss = 0.1973\n",
      "epoch: 12000, loss = 0.1971\n",
      "epoch: 13000, loss = 0.1970\n",
      "epoch: 14000, loss = 0.1969\n",
      "epoch: 15000, loss = 0.1968\n",
      "epoch: 16000, loss = 0.1968\n",
      "epoch: 17000, loss = 0.1967\n",
      "epoch: 18000, loss = 0.1967\n",
      "epoch: 19000, loss = 0.1967\n",
      "epoch: 20000, loss = 0.1967\n"
     ]
    }
   ],
   "metadata": {}
  }
 ],
 "metadata": {
  "orig_nbformat": 4,
  "language_info": {
   "name": "python",
   "version": "3.8.8",
   "mimetype": "text/x-python",
   "codemirror_mode": {
    "name": "ipython",
    "version": 3
   },
   "pygments_lexer": "ipython3",
   "nbconvert_exporter": "python",
   "file_extension": ".py"
  },
  "kernelspec": {
   "name": "python3",
   "display_name": "Python 3.8.8 64-bit ('nlp': conda)"
  },
  "interpreter": {
   "hash": "ee9c6075724d14c0fd25a4fcfff50b0faf57abbdbbe53ef8d682013da81c87b5"
  }
 },
 "nbformat": 4,
 "nbformat_minor": 2
}